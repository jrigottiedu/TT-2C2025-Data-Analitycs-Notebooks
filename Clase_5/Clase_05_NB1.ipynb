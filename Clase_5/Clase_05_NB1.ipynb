{
  "nbformat": 4,
  "nbformat_minor": 0,
  "metadata": {
    "colab": {
      "provenance": []
    },
    "kernelspec": {
      "name": "python3",
      "display_name": "Python 3"
    },
    "language_info": {
      "name": "python"
    }
  },
  "cells": [
    {
      "cell_type": "markdown",
      "source": [
        "# Tecnicas para limpieza de datos"
      ],
      "metadata": {
        "id": "coxpELWGHydE"
      }
    },
    {
      "cell_type": "markdown",
      "source": [
        "1. Eliminar duplicados\n",
        "`drop_duplicates()`\n",
        "2. Eliminar caracteres no deseados\n",
        "`str.replace()`\n",
        "3. Corrección del tipo de dato\n",
        "df[ “campo” ].astype(float) [texto del enlace](https://)\n",
        "4. Manejo de datos faltantes\n",
        "`dropna()`\n",
        "`fillna()`\n",
        "5. Normalización de datos\n",
        "`.str.strip().lower()`\n",
        "6. Filtrado de datos\n",
        "`df [ df[“campo”] + condición ]`\n"
      ],
      "metadata": {
        "id": "C2-trU9kH3CD"
      }
    },
    {
      "cell_type": "markdown",
      "source": [
        "## Importamos algunos datasets para explorar"
      ],
      "metadata": {
        "id": "YMopub5oINB3"
      }
    },
    {
      "cell_type": "code",
      "source": [
        "# Importar la librería Pandas\n",
        "import pandas as pd"
      ],
      "metadata": {
        "id": "RfKtSouMJgGm"
      },
      "execution_count": 2,
      "outputs": []
    },
    {
      "cell_type": "code",
      "source": [
        "# @title\n",
        "# Montar la unidad\n",
        "from google.colab import drive\n",
        "drive.mount('/content/drive')"
      ],
      "metadata": {
        "id": "7crL5focIWRd",
        "cellView": "form"
      },
      "execution_count": null,
      "outputs": []
    },
    {
      "cell_type": "code",
      "source": [
        "# @title\n",
        "# Verificar que los archivos csv se encuentren en la carpeta datasets\n",
        "import os\n",
        "os.listdir(\"/content/drive/MyDrive/datasets\")"
      ],
      "metadata": {
        "id": "dexkg6aTJysV",
        "cellView": "form"
      },
      "execution_count": null,
      "outputs": []
    },
    {
      "cell_type": "code",
      "source": [
        "# @title\n",
        "# Importamos el Dataset satis (customer satisfaction)\n",
        "df_satis = pd.read_csv(\"/content/drive/MyDrive/datasets/satis_clientes.csv\")\n",
        "df_satis.info()"
      ],
      "metadata": {
        "id": "yZDvce32KpJo",
        "cellView": "form"
      },
      "execution_count": null,
      "outputs": []
    },
    {
      "cell_type": "code",
      "execution_count": 66,
      "metadata": {
        "id": "Ly3Tn2CyGl8S",
        "colab": {
          "base_uri": "https://localhost:8080/"
        },
        "outputId": "df1a6c54-056c-4c86-cf4b-0f5bb1c50545"
      },
      "outputs": [
        {
          "output_type": "stream",
          "name": "stdout",
          "text": [
            "Using Colab cache for faster access to the 'netflix-shows' dataset.\n",
            "\n",
            "Path to folder of dataset files => : /kaggle/input/netflix-shows\n",
            "\n",
            "\n"
          ]
        }
      ],
      "source": [
        "import pandas as pd\n",
        "\n",
        "# Importamos el Dataset Netflix\n",
        "import kagglehub\n",
        "\n",
        "# Download latest version\n",
        "path = kagglehub.dataset_download(\"shivamb/netflix-shows\")\n",
        "\n",
        "print(\"\\nPath to folder of dataset files => :\", path)\n",
        "df_netflix = pd.read_csv(path + '/netflix_titles.csv') # Added the filename here\n",
        "\n",
        "#nf_url = \"https://github.com/alex-degarate/TT-2C2025-Data-Analitycs-Notebooks/blob/main/datasets/netflix_titles.csv\"\n",
        "#df_nf2 = pd.read_csv(nf_url)\n",
        "\n",
        "print(\"\\n\")\n",
        "\n"
      ]
    },
    {
      "cell_type": "code",
      "source": [],
      "metadata": {
        "id": "MPM8sGrICnjv"
      },
      "execution_count": null,
      "outputs": []
    },
    {
      "cell_type": "code",
      "source": [
        "\n",
        "#df_netflix.info()\n",
        "print(\"\\n\")\n",
        "#print(df_netflix.iloc[:, 0:3])\n",
        "#df_netflix[['title', 'country', 'release_year']].head()\n",
        "\n",
        "titulo = df_netflix['title']\n",
        "\n",
        "print(len(titulo))\n",
        "\n",
        "# obtengo un substring de ese dato para cada valor del indice\n",
        "df_netflix['title'] = df_netflix['title'].str.slice(0, 25)\n",
        "df_netflix['country'] = df_netflix['country'].str.slice(0, 20)\n",
        "\n",
        "display( df_netflix[['show_id', 'title', 'country']].head(100))\n",
        "\n",
        "# print(\"\\n Duplicados => \",df_netflix.duplicated().sum())\n"
      ],
      "metadata": {
        "colab": {
          "base_uri": "https://localhost:8080/",
          "height": 476
        },
        "id": "GqXXtZPBCqsC",
        "outputId": "646e2c33-8402-4827-989b-c898668081b6"
      },
      "execution_count": 72,
      "outputs": [
        {
          "output_type": "stream",
          "name": "stdout",
          "text": [
            "\n",
            "\n",
            "8807\n"
          ]
        },
        {
          "output_type": "display_data",
          "data": {
            "text/plain": [
              "   show_id                      title               country\n",
              "0       s1       Dick Johnson Is Dead         United States\n",
              "1       s2              Blood & Water          South Africa\n",
              "2       s3                  Ganglands                   NaN\n",
              "3       s4      Jailbirds New Orleans                   NaN\n",
              "4       s5               Kota Factory                 India\n",
              "..     ...                        ...                   ...\n",
              "95     s96                 The Circle  United States, Unite\n",
              "96     s97  If I Leave Here Tomorrow:         United States\n",
              "97     s98                 Kid Cosmic         United States\n",
              "98     s99  Octonauts: Above & Beyond        United Kingdom\n",
              "99    s100               On the Verge  France, United State\n",
              "\n",
              "[100 rows x 3 columns]"
            ],
            "text/html": [
              "\n",
              "  <div id=\"df-b07ae30b-4555-49d5-9a85-1d3d813352ba\" class=\"colab-df-container\">\n",
              "    <div>\n",
              "<style scoped>\n",
              "    .dataframe tbody tr th:only-of-type {\n",
              "        vertical-align: middle;\n",
              "    }\n",
              "\n",
              "    .dataframe tbody tr th {\n",
              "        vertical-align: top;\n",
              "    }\n",
              "\n",
              "    .dataframe thead th {\n",
              "        text-align: right;\n",
              "    }\n",
              "</style>\n",
              "<table border=\"1\" class=\"dataframe\">\n",
              "  <thead>\n",
              "    <tr style=\"text-align: right;\">\n",
              "      <th></th>\n",
              "      <th>show_id</th>\n",
              "      <th>title</th>\n",
              "      <th>country</th>\n",
              "    </tr>\n",
              "  </thead>\n",
              "  <tbody>\n",
              "    <tr>\n",
              "      <th>0</th>\n",
              "      <td>s1</td>\n",
              "      <td>Dick Johnson Is Dead</td>\n",
              "      <td>United States</td>\n",
              "    </tr>\n",
              "    <tr>\n",
              "      <th>1</th>\n",
              "      <td>s2</td>\n",
              "      <td>Blood &amp; Water</td>\n",
              "      <td>South Africa</td>\n",
              "    </tr>\n",
              "    <tr>\n",
              "      <th>2</th>\n",
              "      <td>s3</td>\n",
              "      <td>Ganglands</td>\n",
              "      <td>NaN</td>\n",
              "    </tr>\n",
              "    <tr>\n",
              "      <th>3</th>\n",
              "      <td>s4</td>\n",
              "      <td>Jailbirds New Orleans</td>\n",
              "      <td>NaN</td>\n",
              "    </tr>\n",
              "    <tr>\n",
              "      <th>4</th>\n",
              "      <td>s5</td>\n",
              "      <td>Kota Factory</td>\n",
              "      <td>India</td>\n",
              "    </tr>\n",
              "    <tr>\n",
              "      <th>...</th>\n",
              "      <td>...</td>\n",
              "      <td>...</td>\n",
              "      <td>...</td>\n",
              "    </tr>\n",
              "    <tr>\n",
              "      <th>95</th>\n",
              "      <td>s96</td>\n",
              "      <td>The Circle</td>\n",
              "      <td>United States, Unite</td>\n",
              "    </tr>\n",
              "    <tr>\n",
              "      <th>96</th>\n",
              "      <td>s97</td>\n",
              "      <td>If I Leave Here Tomorrow:</td>\n",
              "      <td>United States</td>\n",
              "    </tr>\n",
              "    <tr>\n",
              "      <th>97</th>\n",
              "      <td>s98</td>\n",
              "      <td>Kid Cosmic</td>\n",
              "      <td>United States</td>\n",
              "    </tr>\n",
              "    <tr>\n",
              "      <th>98</th>\n",
              "      <td>s99</td>\n",
              "      <td>Octonauts: Above &amp; Beyond</td>\n",
              "      <td>United Kingdom</td>\n",
              "    </tr>\n",
              "    <tr>\n",
              "      <th>99</th>\n",
              "      <td>s100</td>\n",
              "      <td>On the Verge</td>\n",
              "      <td>France, United State</td>\n",
              "    </tr>\n",
              "  </tbody>\n",
              "</table>\n",
              "<p>100 rows × 3 columns</p>\n",
              "</div>\n",
              "    <div class=\"colab-df-buttons\">\n",
              "\n",
              "  <div class=\"colab-df-container\">\n",
              "    <button class=\"colab-df-convert\" onclick=\"convertToInteractive('df-b07ae30b-4555-49d5-9a85-1d3d813352ba')\"\n",
              "            title=\"Convert this dataframe to an interactive table.\"\n",
              "            style=\"display:none;\">\n",
              "\n",
              "  <svg xmlns=\"http://www.w3.org/2000/svg\" height=\"24px\" viewBox=\"0 -960 960 960\">\n",
              "    <path d=\"M120-120v-720h720v720H120Zm60-500h600v-160H180v160Zm220 220h160v-160H400v160Zm0 220h160v-160H400v160ZM180-400h160v-160H180v160Zm440 0h160v-160H620v160ZM180-180h160v-160H180v160Zm440 0h160v-160H620v160Z\"/>\n",
              "  </svg>\n",
              "    </button>\n",
              "\n",
              "  <style>\n",
              "    .colab-df-container {\n",
              "      display:flex;\n",
              "      gap: 12px;\n",
              "    }\n",
              "\n",
              "    .colab-df-convert {\n",
              "      background-color: #E8F0FE;\n",
              "      border: none;\n",
              "      border-radius: 50%;\n",
              "      cursor: pointer;\n",
              "      display: none;\n",
              "      fill: #1967D2;\n",
              "      height: 32px;\n",
              "      padding: 0 0 0 0;\n",
              "      width: 32px;\n",
              "    }\n",
              "\n",
              "    .colab-df-convert:hover {\n",
              "      background-color: #E2EBFA;\n",
              "      box-shadow: 0px 1px 2px rgba(60, 64, 67, 0.3), 0px 1px 3px 1px rgba(60, 64, 67, 0.15);\n",
              "      fill: #174EA6;\n",
              "    }\n",
              "\n",
              "    .colab-df-buttons div {\n",
              "      margin-bottom: 4px;\n",
              "    }\n",
              "\n",
              "    [theme=dark] .colab-df-convert {\n",
              "      background-color: #3B4455;\n",
              "      fill: #D2E3FC;\n",
              "    }\n",
              "\n",
              "    [theme=dark] .colab-df-convert:hover {\n",
              "      background-color: #434B5C;\n",
              "      box-shadow: 0px 1px 3px 1px rgba(0, 0, 0, 0.15);\n",
              "      filter: drop-shadow(0px 1px 2px rgba(0, 0, 0, 0.3));\n",
              "      fill: #FFFFFF;\n",
              "    }\n",
              "  </style>\n",
              "\n",
              "    <script>\n",
              "      const buttonEl =\n",
              "        document.querySelector('#df-b07ae30b-4555-49d5-9a85-1d3d813352ba button.colab-df-convert');\n",
              "      buttonEl.style.display =\n",
              "        google.colab.kernel.accessAllowed ? 'block' : 'none';\n",
              "\n",
              "      async function convertToInteractive(key) {\n",
              "        const element = document.querySelector('#df-b07ae30b-4555-49d5-9a85-1d3d813352ba');\n",
              "        const dataTable =\n",
              "          await google.colab.kernel.invokeFunction('convertToInteractive',\n",
              "                                                    [key], {});\n",
              "        if (!dataTable) return;\n",
              "\n",
              "        const docLinkHtml = 'Like what you see? Visit the ' +\n",
              "          '<a target=\"_blank\" href=https://colab.research.google.com/notebooks/data_table.ipynb>data table notebook</a>'\n",
              "          + ' to learn more about interactive tables.';\n",
              "        element.innerHTML = '';\n",
              "        dataTable['output_type'] = 'display_data';\n",
              "        await google.colab.output.renderOutput(dataTable, element);\n",
              "        const docLink = document.createElement('div');\n",
              "        docLink.innerHTML = docLinkHtml;\n",
              "        element.appendChild(docLink);\n",
              "      }\n",
              "    </script>\n",
              "  </div>\n",
              "\n",
              "\n",
              "    <div id=\"df-f76bddaa-f8dc-489d-b83c-ec53e9f62b1c\">\n",
              "      <button class=\"colab-df-quickchart\" onclick=\"quickchart('df-f76bddaa-f8dc-489d-b83c-ec53e9f62b1c')\"\n",
              "                title=\"Suggest charts\"\n",
              "                style=\"display:none;\">\n",
              "\n",
              "<svg xmlns=\"http://www.w3.org/2000/svg\" height=\"24px\"viewBox=\"0 0 24 24\"\n",
              "     width=\"24px\">\n",
              "    <g>\n",
              "        <path d=\"M19 3H5c-1.1 0-2 .9-2 2v14c0 1.1.9 2 2 2h14c1.1 0 2-.9 2-2V5c0-1.1-.9-2-2-2zM9 17H7v-7h2v7zm4 0h-2V7h2v10zm4 0h-2v-4h2v4z\"/>\n",
              "    </g>\n",
              "</svg>\n",
              "      </button>\n",
              "\n",
              "<style>\n",
              "  .colab-df-quickchart {\n",
              "      --bg-color: #E8F0FE;\n",
              "      --fill-color: #1967D2;\n",
              "      --hover-bg-color: #E2EBFA;\n",
              "      --hover-fill-color: #174EA6;\n",
              "      --disabled-fill-color: #AAA;\n",
              "      --disabled-bg-color: #DDD;\n",
              "  }\n",
              "\n",
              "  [theme=dark] .colab-df-quickchart {\n",
              "      --bg-color: #3B4455;\n",
              "      --fill-color: #D2E3FC;\n",
              "      --hover-bg-color: #434B5C;\n",
              "      --hover-fill-color: #FFFFFF;\n",
              "      --disabled-bg-color: #3B4455;\n",
              "      --disabled-fill-color: #666;\n",
              "  }\n",
              "\n",
              "  .colab-df-quickchart {\n",
              "    background-color: var(--bg-color);\n",
              "    border: none;\n",
              "    border-radius: 50%;\n",
              "    cursor: pointer;\n",
              "    display: none;\n",
              "    fill: var(--fill-color);\n",
              "    height: 32px;\n",
              "    padding: 0;\n",
              "    width: 32px;\n",
              "  }\n",
              "\n",
              "  .colab-df-quickchart:hover {\n",
              "    background-color: var(--hover-bg-color);\n",
              "    box-shadow: 0 1px 2px rgba(60, 64, 67, 0.3), 0 1px 3px 1px rgba(60, 64, 67, 0.15);\n",
              "    fill: var(--button-hover-fill-color);\n",
              "  }\n",
              "\n",
              "  .colab-df-quickchart-complete:disabled,\n",
              "  .colab-df-quickchart-complete:disabled:hover {\n",
              "    background-color: var(--disabled-bg-color);\n",
              "    fill: var(--disabled-fill-color);\n",
              "    box-shadow: none;\n",
              "  }\n",
              "\n",
              "  .colab-df-spinner {\n",
              "    border: 2px solid var(--fill-color);\n",
              "    border-color: transparent;\n",
              "    border-bottom-color: var(--fill-color);\n",
              "    animation:\n",
              "      spin 1s steps(1) infinite;\n",
              "  }\n",
              "\n",
              "  @keyframes spin {\n",
              "    0% {\n",
              "      border-color: transparent;\n",
              "      border-bottom-color: var(--fill-color);\n",
              "      border-left-color: var(--fill-color);\n",
              "    }\n",
              "    20% {\n",
              "      border-color: transparent;\n",
              "      border-left-color: var(--fill-color);\n",
              "      border-top-color: var(--fill-color);\n",
              "    }\n",
              "    30% {\n",
              "      border-color: transparent;\n",
              "      border-left-color: var(--fill-color);\n",
              "      border-top-color: var(--fill-color);\n",
              "      border-right-color: var(--fill-color);\n",
              "    }\n",
              "    40% {\n",
              "      border-color: transparent;\n",
              "      border-right-color: var(--fill-color);\n",
              "      border-top-color: var(--fill-color);\n",
              "    }\n",
              "    60% {\n",
              "      border-color: transparent;\n",
              "      border-right-color: var(--fill-color);\n",
              "    }\n",
              "    80% {\n",
              "      border-color: transparent;\n",
              "      border-right-color: var(--fill-color);\n",
              "      border-bottom-color: var(--fill-color);\n",
              "    }\n",
              "    90% {\n",
              "      border-color: transparent;\n",
              "      border-bottom-color: var(--fill-color);\n",
              "    }\n",
              "  }\n",
              "</style>\n",
              "\n",
              "      <script>\n",
              "        async function quickchart(key) {\n",
              "          const quickchartButtonEl =\n",
              "            document.querySelector('#' + key + ' button');\n",
              "          quickchartButtonEl.disabled = true;  // To prevent multiple clicks.\n",
              "          quickchartButtonEl.classList.add('colab-df-spinner');\n",
              "          try {\n",
              "            const charts = await google.colab.kernel.invokeFunction(\n",
              "                'suggestCharts', [key], {});\n",
              "          } catch (error) {\n",
              "            console.error('Error during call to suggestCharts:', error);\n",
              "          }\n",
              "          quickchartButtonEl.classList.remove('colab-df-spinner');\n",
              "          quickchartButtonEl.classList.add('colab-df-quickchart-complete');\n",
              "        }\n",
              "        (() => {\n",
              "          let quickchartButtonEl =\n",
              "            document.querySelector('#df-f76bddaa-f8dc-489d-b83c-ec53e9f62b1c button');\n",
              "          quickchartButtonEl.style.display =\n",
              "            google.colab.kernel.accessAllowed ? 'block' : 'none';\n",
              "        })();\n",
              "      </script>\n",
              "    </div>\n",
              "\n",
              "    </div>\n",
              "  </div>\n"
            ],
            "application/vnd.google.colaboratory.intrinsic+json": {
              "type": "dataframe",
              "summary": "{\n  \"name\": \"# print(\\\"\\\\n Duplicados => \\\",df_netflix\",\n  \"rows\": 100,\n  \"fields\": [\n    {\n      \"column\": \"show_id\",\n      \"properties\": {\n        \"dtype\": \"string\",\n        \"num_unique_values\": 100,\n        \"samples\": [\n          \"s84\",\n          \"s54\",\n          \"s71\"\n        ],\n        \"semantic_type\": \"\",\n        \"description\": \"\"\n      }\n    },\n    {\n      \"column\": \"title\",\n      \"properties\": {\n        \"dtype\": \"string\",\n        \"num_unique_values\": 98,\n        \"samples\": [\n          \"Nightbooks\",\n          \"He-Man and the Masters of\",\n          \"If I Leave Here Tomorrow:\"\n        ],\n        \"semantic_type\": \"\",\n        \"description\": \"\"\n      }\n    },\n    {\n      \"column\": \"country\",\n      \"properties\": {\n        \"dtype\": \"category\",\n        \"num_unique_values\": 21,\n        \"samples\": [\n          \"United States\",\n          \"Belgium\",\n          \"Spain, United States\"\n        ],\n        \"semantic_type\": \"\",\n        \"description\": \"\"\n      }\n    }\n  ]\n}"
            }
          },
          "metadata": {}
        }
      ]
    },
    {
      "cell_type": "code",
      "metadata": {
        "id": "ee6b76ad"
      },
      "source": [
        "# Save the DataFrame to a CSV file\n",
        "df_netflix.to_csv(\"netflix_titles.csv\", index=False)"
      ],
      "execution_count": 26,
      "outputs": []
    },
    {
      "cell_type": "code",
      "source": [
        "from google.colab import drive\n",
        "drive.mount('/content/drive')"
      ],
      "metadata": {
        "id": "JjDmBdRyCEMK"
      },
      "execution_count": null,
      "outputs": []
    },
    {
      "cell_type": "code",
      "source": [],
      "metadata": {
        "id": "QP_tYYjZ-iD4"
      },
      "execution_count": null,
      "outputs": []
    },
    {
      "cell_type": "code",
      "source": [],
      "metadata": {
        "id": "i7mWBdkS-oxN"
      },
      "execution_count": null,
      "outputs": []
    },
    {
      "cell_type": "code",
      "source": [
        "# Importamos el Dataset de pacientes con sus mediciones de temperatura\n",
        "df_pacientes = pd.read_csv('https://docs.google.com/spreadsheets/d/1-rUn4TUwpGrLE1DH8moeiR5eSyeF-jOOTpfhRgZxVIQ/gviz/tq?tqx=out:csv&sheet=')\n",
        "df_pacientes.info()\n"
      ],
      "metadata": {
        "id": "BGW2keyALM-p"
      },
      "execution_count": null,
      "outputs": []
    },
    {
      "cell_type": "markdown",
      "source": [
        "## Identificación de datos duplicados\n",
        "\n",
        "[duplicated()](https://pandas.pydata.org/docs/reference/api/pandas.DataFrame.duplicated.html)"
      ],
      "metadata": {
        "id": "wA26PM5dOH3q"
      }
    },
    {
      "cell_type": "markdown",
      "source": [],
      "metadata": {
        "id": "xD44BayT8CXN"
      }
    },
    {
      "cell_type": "markdown",
      "source": [
        "### Dataframe satis"
      ],
      "metadata": {
        "id": "03DYUagAh88_"
      }
    },
    {
      "cell_type": "code",
      "source": [
        "df_satis.info()"
      ],
      "metadata": {
        "id": "L0c7cEg7ZjhP"
      },
      "execution_count": null,
      "outputs": []
    },
    {
      "cell_type": "code",
      "source": [
        "# Veamos si hay duplicados\n",
        "df_satis.duplicated().sum()"
      ],
      "metadata": {
        "id": "yc_Nk9vUhhkM"
      },
      "execution_count": null,
      "outputs": []
    },
    {
      "cell_type": "code",
      "source": [
        "# Veamos cuantos registros duplicados hay\n",
        "df_satis.duplicated(subset=[\"Empresa\", \"Calificación\"]).sum()"
      ],
      "metadata": {
        "id": "TvNui7WWS12w"
      },
      "execution_count": null,
      "outputs": []
    },
    {
      "cell_type": "code",
      "source": [
        "# Contar valores unicos\n",
        "df_satis.value_counts(subset=[\"Empresa\", \"Calificación\"]).sort_values(ascending=False)"
      ],
      "metadata": {
        "id": "kymrG0MHgvRZ"
      },
      "execution_count": null,
      "outputs": []
    },
    {
      "cell_type": "code",
      "source": [
        "# Visualizar los duplicados con diferentes argumentos\n",
        "df_satis[df_satis.duplicated(keep=False)].sort_values(by='Empresa')"
      ],
      "metadata": {
        "id": "jY9BIRBvdTCz"
      },
      "execution_count": null,
      "outputs": []
    },
    {
      "cell_type": "code",
      "source": [
        "# Aplicar filtros\n",
        "df_satis[df_satis['Empresa'] == \"Keebler Inc\"]"
      ],
      "metadata": {
        "id": "F6kQASVog0V0"
      },
      "execution_count": null,
      "outputs": []
    },
    {
      "cell_type": "code",
      "source": [
        "df_satis[df_satis.duplicated(subset=[\"Empresa\", \"Fecha\"],keep=False)].sort_values(by='id')"
      ],
      "metadata": {
        "collapsed": true,
        "id": "F1Zh35WLasP_"
      },
      "execution_count": null,
      "outputs": []
    },
    {
      "cell_type": "code",
      "source": [
        "df_satis[df_satis.duplicated(subset=df_satis.columns[1:],keep=False)].sort_values(by='Empresa')"
      ],
      "metadata": {
        "id": "dw_lDCa6Rmb6"
      },
      "execution_count": null,
      "outputs": []
    },
    {
      "cell_type": "markdown",
      "source": [
        "### Dataframe Pacientes"
      ],
      "metadata": {
        "id": "7yZ0UKPiZNWw"
      }
    },
    {
      "cell_type": "code",
      "source": [
        "# Veamos cuantos registros duplicados hay\n",
        "df_pacientes.duplicated().sum()"
      ],
      "metadata": {
        "id": "sTlHqI0sZUo8"
      },
      "execution_count": null,
      "outputs": []
    },
    {
      "cell_type": "code",
      "source": [
        "# Si hay, entonces los listamos (keep, first, last, False)\n",
        "df_pacientes[df_pacientes.duplicated(subset=[\"nombre\"], keep=False)].sort_values(by='nombre')"
      ],
      "metadata": {
        "id": "LXak9CVpS1YK"
      },
      "execution_count": null,
      "outputs": []
    },
    {
      "cell_type": "markdown",
      "source": [
        "### Dataframe Netflix"
      ],
      "metadata": {
        "id": "quNPvQHhcXF6"
      }
    },
    {
      "cell_type": "code",
      "source": [
        "df_netflix.duplicated().sum()"
      ],
      "metadata": {
        "id": "LXuZr1KncYxY"
      },
      "execution_count": null,
      "outputs": []
    },
    {
      "cell_type": "code",
      "source": [
        "df_netflix[df_netflix.duplicated()]"
      ],
      "metadata": {
        "id": "vhKHF-2mcc-c"
      },
      "execution_count": null,
      "outputs": []
    },
    {
      "cell_type": "markdown",
      "source": [
        "## Tratamiento de datos duplicados\n",
        "[Pandas drop_duplicates()](https://pandas.pydata.org/docs/reference/api/pandas.DataFrame.drop_duplicates.html)"
      ],
      "metadata": {
        "id": "vDYh-QrWcrlx"
      }
    },
    {
      "cell_type": "markdown",
      "source": [
        "### Dataset Satis"
      ],
      "metadata": {
        "id": "1Szdxzs2lo9C"
      }
    },
    {
      "cell_type": "code",
      "source": [
        "df_satis.info()"
      ],
      "metadata": {
        "id": "FYxJSeZ9fQkt"
      },
      "execution_count": null,
      "outputs": []
    },
    {
      "cell_type": "code",
      "source": [
        "df_satis_pp1 = df_satis.drop_duplicates(subset=[\"Empresa\", \"Calificación\"], keep=\"first\")\n",
        "df_satis_pp1.info()"
      ],
      "metadata": {
        "id": "GvXQPiXSdL1K"
      },
      "execution_count": null,
      "outputs": []
    },
    {
      "cell_type": "code",
      "source": [
        "df_netflix.duplicated().sum()"
      ],
      "metadata": {
        "id": "zDFfjl47NOK7"
      },
      "execution_count": null,
      "outputs": []
    },
    {
      "cell_type": "code",
      "source": [
        "df_satis_pp1[df_satis_pp1.duplicated(subset=[\"Empresa\", \"Calificación\"], keep=False)].sort_values(by='Empresa')\n"
      ],
      "metadata": {
        "id": "j_GtWCfWo_Jg"
      },
      "execution_count": null,
      "outputs": []
    },
    {
      "cell_type": "markdown",
      "source": [
        "## Exploración de datos nulos"
      ],
      "metadata": {
        "id": "UgoJnK5MrB1p"
      }
    },
    {
      "cell_type": "code",
      "source": [
        "df_satis.info()"
      ],
      "metadata": {
        "id": "Fd9KBubBrF3l"
      },
      "execution_count": null,
      "outputs": []
    },
    {
      "cell_type": "code",
      "source": [],
      "metadata": {
        "id": "GO9EkysBF9fq"
      },
      "execution_count": null,
      "outputs": []
    },
    {
      "cell_type": "code",
      "source": [
        "# Ver si hay valores nulos, en general o en columnas especificas\n",
        "#df_satis.isnull().sum()\n",
        "#df_satis[[\"Comentarios\", \"Calificación\"]].isnull().sum()\n",
        "df_satis.isnull().any(axis=1).sum()"
      ],
      "metadata": {
        "id": "GAa6Fu8jrLft"
      },
      "execution_count": null,
      "outputs": []
    },
    {
      "cell_type": "code",
      "source": [
        "# Visualizar los registros con celdas null / NaN\n",
        "df_satis[df_satis.isnull().any(axis=1)][[\"Comentarios\", \"Calificación\"]]"
      ],
      "metadata": {
        "id": "lfLrT3UWrctd"
      },
      "execution_count": null,
      "outputs": []
    },
    {
      "cell_type": "markdown",
      "source": [
        "## Tratamiento de datos nulos"
      ],
      "metadata": {
        "id": "Zi0n5cJ9twro"
      }
    },
    {
      "cell_type": "markdown",
      "source": [
        "### drop"
      ],
      "metadata": {
        "id": "HboQX6EjmoXk"
      }
    },
    {
      "cell_type": "markdown",
      "source": [
        "`dropna` se usa para eliminar registros que contengan datos nulos\n",
        "<BR>\n",
        "[Pandas dropna](https://pandas.pydata.org/docs/reference/api/pandas.DataFrame.dropna.html)\n",
        "\n",
        "* how: para especificar si (any / all) celdas deben tener NaN\n",
        "* thresh: indicar la cantidad de NaN para ejecutar el drop (no se puede combinar con any)\n",
        "* subset: indicar las columnas a evaluar\n",
        "* inplace: si guarda los cambios en el dataframe o retorna una copia"
      ],
      "metadata": {
        "id": "rqqvPnXqDXSz"
      }
    },
    {
      "cell_type": "markdown",
      "source": [
        "Analizar y comparar que sucede cuando aplicamos dropna a todas las columnas o a algunas especificas."
      ],
      "metadata": {
        "id": "cOVL42yRhcd5"
      }
    },
    {
      "cell_type": "code",
      "source": [
        "# Eliminar un registro si alguna las columnas contienen NaA\n",
        "df_satis_pp2 = df_satis.dropna()\n",
        "df_satis_pp2.info()"
      ],
      "metadata": {
        "id": "gcSHOHrzt11p"
      },
      "execution_count": null,
      "outputs": []
    },
    {
      "cell_type": "code",
      "source": [
        "# Eliminar un registro si alguna o tdas las columnas contienen NaA\n",
        "df_satis_pp2 = df_satis.dropna(how=\"all\")\n",
        "df_satis_pp2.info()"
      ],
      "metadata": {
        "id": "Obuej6GHg1xY"
      },
      "execution_count": null,
      "outputs": []
    },
    {
      "cell_type": "code",
      "source": [
        "# Eliminar un registro solo evaluando NaN en las columnas indicadas\n",
        "df_satis_pp2 = df_satis.dropna(subset=[\"Comentarios\", \"Calificación\"])\n",
        "df_satis_pp2.info()"
      ],
      "metadata": {
        "id": "dZhzbrx62Hse"
      },
      "execution_count": null,
      "outputs": []
    },
    {
      "cell_type": "code",
      "source": [
        "# Eliminar una columna si contiene NaN\n",
        "df_satis_pp2 = df_satis.dropna(axis=1) # no accepta subset\n",
        "df_satis_pp2.info()"
      ],
      "metadata": {
        "id": "Nd0sdRmjeHa8"
      },
      "execution_count": null,
      "outputs": []
    },
    {
      "cell_type": "markdown",
      "source": [
        "### fill"
      ],
      "metadata": {
        "id": "Wlrcc3jeDVEh"
      }
    },
    {
      "cell_type": "markdown",
      "source": [
        "`fillna` se utiliza para completar el dato faltante\n",
        "<BR>\n",
        "[Pandas fillna](https://pandas.pydata.org/docs/reference/api/pandas.DataFrame.fillna.html)\n",
        "<BR>\n",
        "* df.fillna(0)  se completa con un valor fijo\n",
        "* df.fillna(method=\"ffill\")  completa con el valor del registro anterior\n",
        "* df.fillna(method=\"bfill\") completa con el valor del registro previo\n",
        "* df[\"col\"].fillna(df[\"col\"].mean()) completa con la media de la columna\n",
        "* df.fillna({\"col1\": 0, \"col2\": \"desconocido\"})"
      ],
      "metadata": {
        "id": "814RqpKuDdYP"
      }
    },
    {
      "cell_type": "markdown",
      "source": [
        "1. completamos con un valor fijo"
      ],
      "metadata": {
        "id": "lkVpokeetAzd"
      }
    },
    {
      "cell_type": "code",
      "source": [
        "# usamos el atributo value con un valor fijo en 0\n",
        "df_satis_pp3 = df_satis.fillna(value = 0)\n",
        "df_satis_pp3.info()"
      ],
      "metadata": {
        "id": "G-Uk5sk3nf2Z"
      },
      "execution_count": null,
      "outputs": []
    },
    {
      "cell_type": "code",
      "source": [
        "# También podríamos usar un diccionario\n",
        "df_satis_pp3 = df_satis.fillna({\"Calificación\": 0, \"Comentarios\": \"Sin dato\"})"
      ],
      "metadata": {
        "id": "J7BqXahzsIXk"
      },
      "execution_count": null,
      "outputs": []
    },
    {
      "cell_type": "code",
      "source": [
        "# listamos los primeros registros\n",
        "df_satis_pp3.head(10)"
      ],
      "metadata": {
        "id": "5l6K3Ch8p3iz"
      },
      "execution_count": null,
      "outputs": []
    },
    {
      "cell_type": "code",
      "source": [
        "# Eventualmente ajustamos el tipo de dato\n",
        "df_satis_pp3 = df_satis_pp3.astype({\"Comentarios\": \"string\"})\n",
        "df_satis_pp3.info()"
      ],
      "metadata": {
        "collapsed": true,
        "id": "kgZc2LqiokLt"
      },
      "execution_count": null,
      "outputs": []
    },
    {
      "cell_type": "code",
      "source": [
        "# Podemos aplicar filtros\n",
        "df_satis_pp3[df_satis_pp3[\"Comentarios\"]==\"0\"]"
      ],
      "metadata": {
        "id": "fg4NNCoCnlMI"
      },
      "execution_count": null,
      "outputs": []
    },
    {
      "cell_type": "markdown",
      "source": [
        "2. Completamos con el valor próximo"
      ],
      "metadata": {
        "id": "NYIeIyXftF9d"
      }
    },
    {
      "cell_type": "code",
      "source": [
        "df_satis_pp3 = df_satis.fillna(method = \"ffill\")\n",
        "df_satis_pp3.info()"
      ],
      "metadata": {
        "id": "gH12WAjWpvRk"
      },
      "execution_count": null,
      "outputs": []
    },
    {
      "cell_type": "markdown",
      "source": [
        "3. Completamos con el valor previo"
      ],
      "metadata": {
        "id": "5BZgmxVmtMH7"
      }
    },
    {
      "cell_type": "code",
      "source": [
        "df_satis_pp3 = df_satis.fillna(method = \"bfill\")\n",
        "df_satis_pp3.info()"
      ],
      "metadata": {
        "id": "RoNmFPentOep"
      },
      "execution_count": null,
      "outputs": []
    },
    {
      "cell_type": "markdown",
      "source": [
        "4. Completamos con la media, meadiana, moda"
      ],
      "metadata": {
        "id": "hpYrnpu5tVuX"
      }
    },
    {
      "cell_type": "code",
      "source": [
        "df_satis_pp3 = df_satis.fillna(df_satis.mean(numeric_only=True))\n",
        "df_satis_pp3.info()"
      ],
      "metadata": {
        "id": "_m_azcEhtZ4D"
      },
      "execution_count": null,
      "outputs": []
    },
    {
      "cell_type": "code",
      "source": [
        "# calcular la media de la columna Calificación\n",
        "media_calif = df_satis[\"Calificación\"].mode()[0] # mean() / median() / mode()[0]\n",
        "\n",
        "# aplicar fillna con diccionario\n",
        "df_satis_pp3 = df_satis.fillna({\n",
        "    \"Calificación\": media_calif,\n",
        "    \"Comentarios\": \"Sin dato\"\n",
        "})"
      ],
      "metadata": {
        "id": "PWILEjXpInLC"
      },
      "execution_count": null,
      "outputs": []
    },
    {
      "cell_type": "code",
      "source": [
        "df_satis_pp3.head(5)"
      ],
      "metadata": {
        "id": "Gsc7wa8Luhuz"
      },
      "execution_count": null,
      "outputs": []
    },
    {
      "cell_type": "markdown",
      "source": [
        "Analicemos el dataset pacientes"
      ],
      "metadata": {
        "id": "irB1hu0SL0zD"
      }
    },
    {
      "cell_type": "code",
      "source": [
        "df_pacientes.info()"
      ],
      "metadata": {
        "id": "sfPx4yl3MSz2"
      },
      "execution_count": null,
      "outputs": []
    },
    {
      "cell_type": "code",
      "source": [
        "# Completamos con la media de la columna\n",
        "df_pacientes_pp1 = df_pacientes.fillna(df_pacientes.mean(numeric_only=True))\n",
        "df_pacientes_pp1.info()"
      ],
      "metadata": {
        "id": "-dpCdJYhMVFD"
      },
      "execution_count": null,
      "outputs": []
    },
    {
      "cell_type": "code",
      "source": [
        "# Completamos con la media de la fila usando lambda\n",
        "\n",
        "# seleccionar solo las columnas d1...d10\n",
        "cols = df_pacientes.columns[1:]   # todas excepto 'nombre'\n",
        "\n",
        "# aplicar moda por fila\n",
        "df_pacientes_pp1[cols] = df_pacientes[cols].apply(\n",
        "    lambda row: row.fillna(row.mean()), axis=1\n",
        ")"
      ],
      "metadata": {
        "id": "EZbSji4PMjRo"
      },
      "execution_count": null,
      "outputs": []
    },
    {
      "cell_type": "code",
      "source": [
        "# Completamos con la media de la fila usando T (traspuesta)\n",
        "df_pacientes_pp1[cols] = df_pacientes[cols].T.fillna(df_pacientes[cols].mean(axis=1)).T"
      ],
      "metadata": {
        "id": "FRGn91HNPUtT"
      },
      "execution_count": null,
      "outputs": []
    },
    {
      "cell_type": "code",
      "source": [
        "#df_pacientes.head()\n",
        "df_pacientes_pp1.head()"
      ],
      "metadata": {
        "id": "5htetQ0ROA1Y"
      },
      "execution_count": null,
      "outputs": []
    },
    {
      "cell_type": "markdown",
      "source": [
        "Veamos el concepto de Traspuesta"
      ],
      "metadata": {
        "id": "INXLSCxaPreV"
      }
    },
    {
      "cell_type": "code",
      "source": [
        "df = pd.DataFrame({\n",
        "    \"A\": [1, 2, 3],\n",
        "    \"B\": [4, 5, 6]\n",
        "})\n",
        "print(\"Original:\")\n",
        "print(df)\n",
        "\n",
        "print(\"\\nTranspuesta:\")\n",
        "print(df.T)"
      ],
      "metadata": {
        "id": "ijYKicyTPvoW"
      },
      "execution_count": null,
      "outputs": []
    },
    {
      "cell_type": "markdown",
      "source": [
        "## Normalización de datos"
      ],
      "metadata": {
        "id": "DaGJeJEJNSy5"
      }
    },
    {
      "cell_type": "markdown",
      "source": [
        "## Ajustar tipo de dato"
      ],
      "metadata": {
        "id": "zqzMRpOvL24q"
      }
    },
    {
      "cell_type": "markdown",
      "source": [
        "### astype()"
      ],
      "metadata": {
        "id": "puSQmvDdP-4l"
      }
    },
    {
      "cell_type": "markdown",
      "source": [
        "* df[\"col\"] = df[\"col\"].astype(int)\n",
        "* df[\"col\"] = df[\"col\"].astype(float)\n",
        "* df[\"col\"] = df[\"col\"].astype(str)"
      ],
      "metadata": {
        "id": "qgJXk5YWQDPg"
      }
    },
    {
      "cell_type": "code",
      "source": [
        "df_satis_pp4 = df_satis.copy()\n",
        "df_satis_pp4[\"Comentarios\"] = df_satis[\"Comentarios\"].astype(\"string\")"
      ],
      "metadata": {
        "id": "YgYCrtZHQNrD"
      },
      "execution_count": null,
      "outputs": []
    },
    {
      "cell_type": "code",
      "source": [
        "df_satis_pp4.info()"
      ],
      "metadata": {
        "id": "jHcS9qJcQCkw"
      },
      "execution_count": null,
      "outputs": []
    },
    {
      "cell_type": "markdown",
      "source": [
        "### to_numeric()"
      ],
      "metadata": {
        "id": "KLdTIJTmQ1BJ"
      }
    },
    {
      "cell_type": "code",
      "source": [
        "pd.to_numeric(df[\"col\"], errors=\"coerce\")"
      ],
      "metadata": {
        "id": "H3ILDagaQ8rt"
      },
      "execution_count": null,
      "outputs": []
    },
    {
      "cell_type": "markdown",
      "source": [
        "### to_datetime()"
      ],
      "metadata": {
        "id": "y536nQ_1GU12"
      }
    },
    {
      "cell_type": "code",
      "source": [
        "type(df_satis[\"Fecha\"][0])\n",
        "df_satis[\"Fecha\"][0]"
      ],
      "metadata": {
        "id": "zScj_SodHWXm"
      },
      "execution_count": null,
      "outputs": []
    },
    {
      "cell_type": "code",
      "source": [
        "# pd.to_datetime(df_satis.Fecha)\n",
        "pd.to_datetime(df_satis[\"Fecha\"], format=\"%d/%m/%Y\")\n"
      ],
      "metadata": {
        "id": "qH0J8NRLGZOK"
      },
      "execution_count": null,
      "outputs": []
    },
    {
      "cell_type": "markdown",
      "source": [
        "## Filtrado de datos"
      ],
      "metadata": {
        "id": "vH7IoUz7Nclh"
      }
    },
    {
      "cell_type": "code",
      "source": [
        "df_satis.info()"
      ],
      "metadata": {
        "id": "G-E9FpFTR07-"
      },
      "execution_count": null,
      "outputs": []
    },
    {
      "cell_type": "code",
      "source": [
        "# Con una sola columna\n",
        "df_satis[\"Empresa\"]"
      ],
      "metadata": {
        "id": "4_86iYp-R0DR"
      },
      "execution_count": null,
      "outputs": []
    },
    {
      "cell_type": "code",
      "source": [
        "# Con varias columnas\n",
        "df_satis[[\"Empresa\", \"Fecha\"]]"
      ],
      "metadata": {
        "id": "ZyrhE8uHR59U"
      },
      "execution_count": null,
      "outputs": []
    },
    {
      "cell_type": "code",
      "source": [
        "df_satis[df_satis[\"Empresa\"] == \"Kuhn-Fay\"]"
      ],
      "metadata": {
        "id": "wL0YWCEhSycC"
      },
      "execution_count": null,
      "outputs": []
    },
    {
      "cell_type": "code",
      "source": [
        "# Con condición\n",
        "df_satis[[(\"Empresa\") ==\"Alpha\" & (\"Comentarios\" > \"3\")]]"
      ],
      "metadata": {
        "id": "TVVA2KMgSEbN"
      },
      "execution_count": null,
      "outputs": []
    }
  ]
}