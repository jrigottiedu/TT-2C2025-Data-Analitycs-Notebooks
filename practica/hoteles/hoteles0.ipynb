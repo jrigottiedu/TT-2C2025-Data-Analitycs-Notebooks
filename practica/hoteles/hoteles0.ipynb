{
  "nbformat": 4,
  "nbformat_minor": 0,
  "metadata": {
    "colab": {
      "provenance": [],
      "mount_file_id": "1-VKQp3QOhZehgRNQ9r8z9pVX0Xe1GyUj",
      "authorship_tag": "ABX9TyPCUDAcHvY0t8onJHQgMY57",
      "include_colab_link": true
    },
    "kernelspec": {
      "name": "python3",
      "display_name": "Python 3"
    },
    "language_info": {
      "name": "python"
    }
  },
  "cells": [
    {
      "cell_type": "markdown",
      "metadata": {
        "id": "view-in-github",
        "colab_type": "text"
      },
      "source": [
        "<a href=\"https://colab.research.google.com/github/alex-degarate/Control-de-Gastos/blob/main/Clase_3/hoteles.ipynb\" target=\"_parent\"><img src=\"https://colab.research.google.com/assets/colab-badge.svg\" alt=\"Open In Colab\"/></a>"
      ]
    },
    {
      "cell_type": "code",
      "execution_count": null,
      "metadata": {
        "id": "bv8pbjQjJgyo"
      },
      "outputs": [],
      "source": [
        "# Lee los archivos subidos a la carpeta virtual de trabajo\n",
        "# Hay que abrir el indice de archivos en el panel de la izq\n",
        "# y luego subir el archivo manualmente\n",
        "\n",
        "# Importar la librería Pandas\n",
        "import pandas as pd\n",
        "\n",
        "\n",
        "# Usar el método read_csv de Pandas (pd) que recibe como argumento el archivo csv y retorna un dataframe\n",
        "df1 = pd.read_csv(\"users.csv\")\n",
        "df1.head()\n",
        "print(f\"Number of rowsof df1: {len(df1)}\")\n"
      ]
    },
    {
      "cell_type": "code",
      "source": [
        "# Usar el método read_csv de Pandas (pd) que recibe como argumento el archivo csv y retorna un dataframe\n",
        "df2 = pd.read_csv(\"hotels.csv\")\n",
        "df2.head()"
      ],
      "metadata": {
        "id": "50NZoeA3KZ_3"
      },
      "execution_count": null,
      "outputs": []
    },
    {
      "cell_type": "code",
      "source": [
        "# Usar el método read_csv de Pandas (pd) que recibe como argumento el archivo csv y retorna un dataframe\n",
        "df3 = pd.read_csv(\"reviews.csv\")\n",
        "df3.head()"
      ],
      "metadata": {
        "id": "04t9-6nHK0nD"
      },
      "execution_count": null,
      "outputs": []
    },
    {
      "cell_type": "code",
      "source": [
        "# Verificar que los archivos csv se encuentren en la carpeta datasets\n",
        "import os\n",
        "os.listdir(\"/content/drive/MyDrive/datasets\")"
      ],
      "metadata": {
        "id": "1_f-87ykL5Jv"
      },
      "execution_count": null,
      "outputs": []
    },
    {
      "cell_type": "code",
      "metadata": {
        "id": "dc508896"
      },
      "source": [
        "# Lee los archivos dentro de una carpeta de Google drive\n",
        "# Path to the CSV file in Google Drive\n",
        "file_path = \"/content/drive/MyDrive/Colab Notebooks/CDATOS/Clase03/datasets/\"\n",
        "\n",
        "# Read the CSV file into a pandas DataFrame\n",
        "df4 = pd.read_csv(file_path + \"hotels.csv\")\n",
        "\n",
        "# Display the first few rows of the DataFrame\n",
        "display(df4.head())\n",
        "\n",
        "num_rows = df4.shape[0]\n",
        "print(f\"Number of rows: {num_rows}\")\n"
      ],
      "execution_count": null,
      "outputs": []
    },
    {
      "cell_type": "code",
      "source": [
        "# Liberar la unidad\n",
        "# drive.flush_and_unmount()"
      ],
      "metadata": {
        "id": "G-0Z3ZDraGFC"
      },
      "execution_count": null,
      "outputs": []
    },
    {
      "cell_type": "code",
      "source": [
        "# Carga archivos locales a la carpeta virtual de trabajo\n",
        "from google.colab import files\n",
        "\n",
        "uploaded = files.upload()"
      ],
      "metadata": {
        "id": "92HJholha8Zd"
      },
      "execution_count": null,
      "outputs": []
    }
  ]
}